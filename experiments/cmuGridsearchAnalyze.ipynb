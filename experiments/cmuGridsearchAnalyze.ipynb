{
 "cells": [
  {
   "cell_type": "code",
   "execution_count": 2,
   "metadata": {},
   "outputs": [
    {
     "name": "stdout",
     "output_type": "stream",
     "text": [
      "0 error configurations\n"
     ]
    }
   ],
   "source": [
    "import pandas\n",
    "#import seaborn as sns\n",
    "import numpy as np\n",
    "\n",
    "df = pandas.read_csv(\"gridsearch.csv\", index_col=None, header=0)\n",
    "\n",
    "df.set_index(['SIMP_DELTA', 'FREE_DELTA', 'COMPLEXITY'], inplace=True)\n",
    "\n",
    "countPerConfig = df.groupby([\"SIMP_DELTA\", \"FREE_DELTA\", \"COMPLEXITY\"]).size()\n",
    "errorConfigs = countPerConfig[countPerConfig != 14]\n",
    "df = df.loc[countPerConfig[countPerConfig == 14].index]\n",
    "\n",
    "print(f\"{len(errorConfigs.index)} error configurations\")"
   ]
  },
  {
   "cell_type": "code",
   "execution_count": 3,
   "metadata": {},
   "outputs": [
    {
     "name": "stdout",
     "output_type": "stream",
     "text": [
      "                                       acc   accTrue   nClusters\n",
      "SIMP_DELTA FREE_DELTA COMPLEXITY                                \n",
      "0.80       1.25       4           0.951186  0.963289  117.000000\n",
      "           1.35       5           0.944116  0.956631  111.857143\n",
      "0.85       1.40       6           0.931727  0.952805   86.714286\n",
      "0.80       0.95       7           0.919373  0.941599   69.642857\n",
      "           1.40       8           0.916722  0.944175   64.642857\n",
      "           0.95       9           0.916873  0.946255   64.571429\n",
      "           1.70       10          0.912625  0.936245   63.000000\n",
      "           0.95       11          0.909083  0.940493   62.142857\n",
      "           0.80       12          0.900434  0.928407   58.214286\n",
      "           1.70       13          0.882714  0.914888   46.500000\n",
      "0.85       0.85       14          0.878450  0.916748   39.285714\n",
      "0.80       1.05       15          0.873111  0.913770   37.500000\n",
      "           1.10       16          0.869932  0.915715   35.285714\n",
      "           1.50       17          0.867017  0.912299   35.357143\n",
      "           1.05       18          0.869584  0.912523   35.500000\n",
      "           1.10       19          0.872503  0.920148   35.214286\n",
      "\n",
      "Aktuelle Konfiguration:\n",
      "acc           0.876145\n",
      "accTrue       0.911897\n",
      "nClusters    47.785714\n",
      "Name: (1.25, 1.25, 10), dtype: float64\n"
     ]
    }
   ],
   "source": [
    "configmeans = df.groupby([\"SIMP_DELTA\", \"FREE_DELTA\", \"COMPLEXITY\"]).mean()\n",
    "configmeans = configmeans.drop(\"TAG\", axis=1)\n",
    "configmeans = configmeans.sort_values(\"acc\", ascending=False)\n",
    "\n",
    "configmeans = configmeans.drop([\"macroPrec\", \"macroRec\", \"macroF1\"], axis=1)\n",
    "\n",
    "# print(configmeans[0:10])\n",
    "\n",
    "bycomplexity = configmeans.groupby(\"COMPLEXITY\")[\"acc\"].idxmax()\n",
    "\n",
    "print(configmeans.loc[bycomplexity])\n",
    "\n",
    "print(\"\\nAktuelle Konfiguration:\")\n",
    "print(configmeans.loc[(1.25,1.25,10)])\n",
    "\n",
    "# # heatmap = groupedbyparams.loc[groupedbyparams[\"FREE_DELTA\"] == groupedbyparams[\"SIMP_DELTA\"]]\n",
    "# heatmap = groupedbyparams.loc[groupedbyparams[\"COMPLEXITY\"] == 8]\n",
    "\n",
    "# sns.heatmap(heatmap.pivot(index=\"FREE_DELTA\", columns=\"SIMP_DELTA\", values=\"acc\"))"
   ]
  },
  {
   "cell_type": "code",
   "execution_count": null,
   "metadata": {},
   "outputs": [],
   "source": []
  }
 ],
 "metadata": {
  "kernelspec": {
   "display_name": "Python 3 (ipykernel)",
   "language": "python",
   "name": "python3"
  },
  "language_info": {
   "codemirror_mode": {
    "name": "ipython",
    "version": 3
   },
   "file_extension": ".py",
   "mimetype": "text/x-python",
   "name": "python",
   "nbconvert_exporter": "python",
   "pygments_lexer": "ipython3",
   "version": "3.8.18"
  }
 },
 "nbformat": 4,
 "nbformat_minor": 4
}
